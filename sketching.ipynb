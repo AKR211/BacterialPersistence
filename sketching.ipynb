{
 "cells": [
  {
   "cell_type": "code",
   "execution_count": 1,
   "metadata": {},
   "outputs": [],
   "source": [
    "import sys\n",
    "import numpy as np\n",
    "\n",
    "sys.path.append('2-state_model/src')\n",
    "from optimal_from_file import optimal_parameters_from_data"
   ]
  },
  {
   "cell_type": "code",
   "execution_count": null,
   "metadata": {},
   "outputs": [],
   "source": [
    "# lag, delta, a, b, ap, bp = bac_args\n",
    "# p, T0, Tab = ab_args\n",
    "p, T0, Tab = 0.5, 6, 10\n",
    "\n",
    "data = np.loadtxt(f\"2-state_model/data/low_resolution/optimal_lag-Tab{int(Tab)}.txt\")\n",
    "#data = np.loadtxt(f\"data/low_resolution/optimal_lag-T0{int(T0)}.txt\")\n",
    "ab_res = len(data)\n",
    "ip = int(p * (ab_res-1))\n",
    "\n",
    "#it = int(Tab * (ab_res-1) / 24)\n",
    "\n",
    "# lag[0]   = data[ip, it]\n",
    "# delta[0] = data[ip, it]\n",
    "\n",
    "# # Transforming to a-b scheme\n",
    "# a[0],  b[0]  = compute_a_and_b(lag[0],   delta[0])\n",
    "# ap[0], bp[0] = compute_ap_and_bp(lag[0], delta[0])"
   ]
  },
  {
   "cell_type": "code",
   "execution_count": null,
   "metadata": {},
   "outputs": [
    {
     "data": {
      "text/plain": [
       "(50, 41)"
      ]
     },
     "execution_count": 12,
     "metadata": {},
     "output_type": "execute_result"
    }
   ],
   "source": [
    "def optimal_parameters_from_data(bac_args, ab_args, const):\n",
    "    lag, delta, a, b, ap, bp = bac_args\n",
    "    p, T0, Tab = ab_args\n",
    "\n",
    "    if const=='Tab':\n",
    "        data = np.loadtxt(f\"data/low_resolution/optimal_lag-Tab{int(Tab)}.txt\")\n",
    "    elif const=='T0':\n",
    "        data = np.loadtxt(f\"data/low_resolution/optimal_lag-T0{int(T0)}.txt\")\n",
    "        \n",
    "    ab_res = len(data)\n",
    "    ip = int(p * (ab_res-1))\n",
    "    it = int(Tab * (ab_res-1) / 24)\n",
    "\n",
    "    lag[0]   = data[ip, it]\n",
    "    delta[0] = data[ip, it]\n",
    "\n",
    "    # Transforming to a-b scheme\n",
    "    a[0],  b[0]  = compute_a_and_b(lag[0],   delta[0])\n",
    "    ap[0], bp[0] = compute_ap_and_bp(lag[0], delta[0])\n",
    "\n",
    "    return [lag, delta, a, b, ap, bp]"
   ]
  },
  {
   "cell_type": "code",
   "execution_count": null,
   "metadata": {},
   "outputs": [],
   "source": []
  }
 ],
 "metadata": {
  "kernelspec": {
   "display_name": "base",
   "language": "python",
   "name": "python3"
  },
  "language_info": {
   "codemirror_mode": {
    "name": "ipython",
    "version": 3
   },
   "file_extension": ".py",
   "mimetype": "text/x-python",
   "name": "python",
   "nbconvert_exporter": "python",
   "pygments_lexer": "ipython3",
   "version": "3.10.9"
  }
 },
 "nbformat": 4,
 "nbformat_minor": 2
}
